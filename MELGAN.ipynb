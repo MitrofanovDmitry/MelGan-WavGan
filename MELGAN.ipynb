{
  "nbformat": 4,
  "nbformat_minor": 0,
  "metadata": {
    "colab": {
      "name": "MELGAN.ipynb",
      "provenance": [],
      "collapsed_sections": [
        "gAHWBCRWobgA"
      ],
      "toc_visible": true
    },
    "kernelspec": {
      "name": "python3",
      "display_name": "Python 3"
    }
  },
  "cells": [
    {
      "cell_type": "code",
      "metadata": {
        "id": "a6g0FGX7ojkV",
        "colab_type": "code",
        "colab": {}
      },
      "source": [
        "!pip install librosa --upgrade"
      ],
      "execution_count": 0,
      "outputs": []
    },
    {
      "cell_type": "code",
      "metadata": {
        "id": "EVb9Z6ELPDRx",
        "colab_type": "code",
        "colab": {}
      },
      "source": [
        "import librosa\n",
        "import librosa.display\n",
        "import matplotlib.pyplot as plt\n",
        "from matplotlib import cm\n",
        "import numpy as np\n",
        "import IPython.display as ipd\n",
        "import copy\n",
        "import time\n",
        "\n",
        "!gdown https://drive.google.com/uc?id=110yz4UGIbveLW8ENFI1DjypNXs96q0FZ\n",
        "\n",
        "y, sr = librosa.load('/content/ex.wav',sr=16000) #Читаем файл\n",
        "ipd.Audio(y, rate=sr) "
      ],
      "execution_count": 0,
      "outputs": []
    },
    {
      "cell_type": "markdown",
      "metadata": {
        "id": "gAHWBCRWobgA",
        "colab_type": "text"
      },
      "source": [
        "# Теория"
      ]
    },
    {
      "cell_type": "code",
      "metadata": {
        "id": "syrPWdv0pF8Y",
        "colab_type": "code",
        "colab": {}
      },
      "source": [
        "class Hparams():\n",
        "  def __init__(self, sr):\n",
        "    self.n_fft = int(sr * 25 / 1000)\n",
        "    self.hop_length=int(sr * 10 / 1000)\n",
        "    self.n_mels = 40\n",
        "    self.n_iter = 10\n",
        "    self.win_length = 20"
      ],
      "execution_count": 0,
      "outputs": []
    },
    {
      "cell_type": "markdown",
      "metadata": {
        "id": "YNbhD5dUooOf",
        "colab_type": "text"
      },
      "source": [
        "## Получить  спектр"
      ]
    },
    {
      "cell_type": "code",
      "metadata": {
        "id": "WTtg1ISz3TGY",
        "colab_type": "code",
        "colab": {}
      },
      "source": [
        "hp = Hparams(sr)\n",
        "# Получаем спектр\n",
        "spectr = librosa.stft(y=y,hop_length=hp.hop_length,n_fft=hp.n_fft)\n",
        "# Амплитуда\n",
        "ampl = np.abs(spectr) \n",
        "# Фаза\n",
        "phasa = np.angle(spectr)\n",
        "# Исходный сигнал только по амплитуде\n",
        "y_ampl = librosa.istft(ampl,hop_length=hp.hop_length)\n",
        "ipd.Audio(y_ampl, rate=sr) "
      ],
      "execution_count": 0,
      "outputs": []
    },
    {
      "cell_type": "markdown",
      "metadata": {
        "id": "56apfijbo2Qd",
        "colab_type": "text"
      },
      "source": [
        "## Вернуть фазу"
      ]
    },
    {
      "cell_type": "code",
      "metadata": {
        "id": "Mva06Xs4o16-",
        "colab_type": "code",
        "colab": {}
      },
      "source": [
        "# Добавляем фазу\n",
        "ampl_phasa =  ampl*np.cos(phasa) + 1j*ampl*np.sin(phasa)\n",
        "# Исходный сигнал по амплитуде и фазе\n",
        "y_ampl_phasa = librosa.istft(ampl_phasa,hop_length=hp.hop_length)\n",
        "ipd.Audio(y_ampl_phasa, rate=sr) "
      ],
      "execution_count": 0,
      "outputs": []
    },
    {
      "cell_type": "markdown",
      "metadata": {
        "id": "PR8X0jI_U-bq",
        "colab_type": "text"
      },
      "source": [
        "## Получить мелспектрограмму"
      ]
    },
    {
      "cell_type": "code",
      "metadata": {
        "id": "nxLTuk0zU8kg",
        "colab_type": "code",
        "colab": {}
      },
      "source": [
        "melspectr = librosa.feature.melspectrogram( #Мелспектр\n",
        "    y,\n",
        "    sr,\n",
        "    n_fft=hp.n_fft,\n",
        "    hop_length=hp.hop_length,\n",
        "    n_mels=hp.n_mels\n",
        ")\n",
        "\n",
        "#Для отображения\n",
        "S_dB = librosa.power_to_db(melspectr, ref=np.max)\n",
        "plt.figure(figsize=(10, 4))\n",
        "cmap = cm.get_cmap('viridis')\n",
        "librosa.display.specshow(S_dB, x_axis='time', y_axis='mel', cmap=cmap)\n",
        "plt.colorbar()\n",
        "plt.title('Melspectrogram')\n",
        "plt.tight_layout()\n",
        "plt.show()"
      ],
      "execution_count": 0,
      "outputs": []
    },
    {
      "cell_type": "markdown",
      "metadata": {
        "id": "r6C2pK-7PU1N",
        "colab_type": "text"
      },
      "source": [
        "## Мелспектрограмма в аудио"
      ]
    },
    {
      "cell_type": "code",
      "metadata": {
        "id": "ccJwZwVplO9h",
        "colab_type": "code",
        "colab": {}
      },
      "source": [
        "ampl_mel = librosa.feature.inverse.mel_to_stft(melspectr, sr, n_fft=hp.n_fft)\n",
        "y_mel_ampl = librosa.istft(ampl_mel,hop_length=hp.hop_length)\n",
        "ipd.Audio(y_mel_ampl, rate=sr) "
      ],
      "execution_count": 0,
      "outputs": []
    },
    {
      "cell_type": "markdown",
      "metadata": {
        "id": "IZp0jwqqZgp3",
        "colab_type": "text"
      },
      "source": [
        "## Гриффин-Лим"
      ]
    },
    {
      "cell_type": "code",
      "metadata": {
        "id": "BkmeHDHCZdoR",
        "colab_type": "code",
        "colab": {}
      },
      "source": [
        "y_griffinlim = librosa.griffinlim(ampl_mel, hop_length=hp.hop_length)\n",
        "ipd.Audio(y_griffinlim, rate=sr) "
      ],
      "execution_count": 0,
      "outputs": []
    },
    {
      "cell_type": "markdown",
      "metadata": {
        "id": "RjH6nhDBWt61",
        "colab_type": "text"
      },
      "source": [
        "## Вернуть к мел фазу"
      ]
    },
    {
      "cell_type": "code",
      "metadata": {
        "id": "GZE1MzjHWtLf",
        "colab_type": "code",
        "colab": {}
      },
      "source": [
        "ampl_phasa =  ampl_mel*np.cos(phasa) + 1j*ampl_mel*np.sin(phasa)\n",
        "y_mel_ampl_phasa = librosa.istft(ampl_phasa,hop_length=hp.hop_length)\n",
        "ipd.Audio(y_mel_ampl_phasa, rate=sr) "
      ],
      "execution_count": 0,
      "outputs": []
    },
    {
      "cell_type": "markdown",
      "metadata": {
        "id": "UZqBBFDEnDB0",
        "colab_type": "text"
      },
      "source": [
        "## Почему мы в синтезаторе отбрасываем фазу"
      ]
    },
    {
      "cell_type": "markdown",
      "metadata": {
        "id": "5lbBd_L6oCzx",
        "colab_type": "text"
      },
      "source": [
        "### Амплитуда несёт информацию"
      ]
    },
    {
      "cell_type": "code",
      "metadata": {
        "id": "PB32Cjdopd0X",
        "colab_type": "code",
        "colab": {}
      },
      "source": [
        "Xdb = 10.0 * np.log10(ampl**2 + 1e-10)\n",
        "librosa.display.specshow(Xdb, sr=sr, x_axis='time', y_axis='hz')"
      ],
      "execution_count": 0,
      "outputs": []
    },
    {
      "cell_type": "markdown",
      "metadata": {
        "id": "piX6rt8soiR0",
        "colab_type": "text"
      },
      "source": [
        "### Фаза случайна"
      ]
    },
    {
      "cell_type": "code",
      "metadata": {
        "id": "r-dvbzqcp6Xd",
        "colab_type": "code",
        "colab": {}
      },
      "source": [
        "librosa.display.specshow(phasa, sr=sr, x_axis='time', y_axis='hz')"
      ],
      "execution_count": 0,
      "outputs": []
    },
    {
      "cell_type": "markdown",
      "metadata": {
        "id": "06I9cEK0ouHB",
        "colab_type": "text"
      },
      "source": [
        "В фазе нет патерна, который нейронная сеть может хорошо достать"
      ]
    },
    {
      "cell_type": "markdown",
      "metadata": {
        "id": "os5Opsskl9dJ",
        "colab_type": "text"
      },
      "source": [
        "## Отобразить все графики"
      ]
    },
    {
      "cell_type": "code",
      "metadata": {
        "id": "VOg29xZAqGJh",
        "colab_type": "code",
        "colab": {}
      },
      "source": [
        "plt.figure(figsize=(16, 12))\n",
        "ax = plt.subplot(5,1,1)\n",
        "librosa.display.waveplot(y, sr=sr, color='b')\n",
        "plt.title('Оригинал')\n",
        "plt.xlabel('')\n",
        "plt.subplot(5,1,2, sharex=ax, sharey=ax)\n",
        "librosa.display.waveplot(y_ampl, sr=sr, color='r')\n",
        "plt.title('Только Амплитуда')\n",
        "plt.xlabel('')\n",
        "plt.subplot(5,1,3, sharex=ax, sharey=ax)\n",
        "librosa.display.waveplot(y_mel_ampl, sr=sr, color='r')\n",
        "plt.title('Только Амплитуда, полученная из Mel')\n",
        "plt.xlabel('')\n",
        "plt.subplot(5,1,4, sharex=ax, sharey=ax)\n",
        "librosa.display.waveplot(y_griffinlim, sr=sr, color='g')\n",
        "plt.title('Только Амплитуда, полученная из Mel + griffinlim')\n",
        "plt.xlabel('')\n",
        "plt.subplot(5,1,5, sharex=ax, sharey=ax)\n",
        "librosa.display.waveplot(y_mel_ampl_phasa, sr=sr, color='r')\n",
        "plt.title('Амплитуда и фаза, полученная из Mel')\n",
        "plt.tight_layout()\n",
        "plt.show()"
      ],
      "execution_count": 0,
      "outputs": []
    },
    {
      "cell_type": "markdown",
      "metadata": {
        "id": "B9Eu1w4eq26S",
        "colab_type": "text"
      },
      "source": [
        "# MelGan"
      ]
    },
    {
      "cell_type": "code",
      "metadata": {
        "id": "53dM5yTDrvGr",
        "colab_type": "code",
        "colab": {}
      },
      "source": [
        "!git clone https://github.com/vlomme/MelGan-WavGan.git"
      ],
      "execution_count": 0,
      "outputs": []
    },
    {
      "cell_type": "code",
      "metadata": {
        "id": "9Yd4rWixr4j8",
        "colab_type": "code",
        "colab": {}
      },
      "source": [
        "cd MelGan-WavGan/"
      ],
      "execution_count": 0,
      "outputs": []
    },
    {
      "cell_type": "code",
      "metadata": {
        "id": "LBIC82Pbr-Kf",
        "colab_type": "code",
        "colab": {}
      },
      "source": [
        "!gdown https://drive.google.com/uc?id=154hohXOGS2UauTt-o7kNvkcXFKpGXufa\n",
        "!unzip logs.zip"
      ],
      "execution_count": 0,
      "outputs": []
    },
    {
      "cell_type": "code",
      "metadata": {
        "id": "D9CTeSskq-Lg",
        "colab_type": "code",
        "colab": {}
      },
      "source": [
        "!python melgan.py -r g -f wav"
      ],
      "execution_count": 0,
      "outputs": []
    },
    {
      "cell_type": "markdown",
      "metadata": {
        "id": "Re9kF7Kgt4AP",
        "colab_type": "text"
      },
      "source": [
        "### Оригинальный сигнал"
      ]
    },
    {
      "cell_type": "code",
      "metadata": {
        "id": "R6j6VCjWsUKq",
        "colab_type": "code",
        "colab": {}
      },
      "source": [
        "y_orig, sr = librosa.load('./gen/orig/RUSLAN.wav',sr=16000)\n",
        "ipd.Audio(y_orig, rate=sr) "
      ],
      "execution_count": 0,
      "outputs": []
    },
    {
      "cell_type": "markdown",
      "metadata": {
        "id": "aS-AwA9pt9M9",
        "colab_type": "text"
      },
      "source": [
        "### Гриффин Лим"
      ]
    },
    {
      "cell_type": "code",
      "metadata": {
        "id": "cA43wtc1toRS",
        "colab_type": "code",
        "colab": {}
      },
      "source": [
        "y_griffinlim, sr = librosa.load('./gen/RUSLAN.wav',sr=16000)\n",
        "ipd.Audio(y_griffinlim, rate=sr) "
      ],
      "execution_count": 0,
      "outputs": []
    },
    {
      "cell_type": "markdown",
      "metadata": {
        "id": "6os93DOZuEon",
        "colab_type": "text"
      },
      "source": [
        "### Вокодер MelGan"
      ]
    },
    {
      "cell_type": "code",
      "metadata": {
        "id": "eEdEtzjTtqY2",
        "colab_type": "code",
        "colab": {}
      },
      "source": [
        "y_melgan, sr = librosa.load('./gen/output/mel_RUSLAN.wav',sr=16000)\n",
        "ipd.Audio(y_melgan, rate=sr) "
      ],
      "execution_count": 0,
      "outputs": []
    },
    {
      "cell_type": "markdown",
      "metadata": {
        "id": "AcPh6oNEq506",
        "colab_type": "text"
      },
      "source": [
        "# WavGan"
      ]
    },
    {
      "cell_type": "markdown",
      "metadata": {
        "id": "FulSOOhAsOx8",
        "colab_type": "text"
      },
      "source": [
        "Идея. Зачем синтезировать из мелспектрограммы, если можно применить Гриффин лим и получить сигнал и останется его только подправить"
      ]
    },
    {
      "cell_type": "code",
      "metadata": {
        "id": "00JTQT3Pq-k3",
        "colab_type": "code",
        "colab": {}
      },
      "source": [
        "!python wavgan.py -r g -f wav"
      ],
      "execution_count": 0,
      "outputs": []
    },
    {
      "cell_type": "code",
      "metadata": {
        "id": "Ovpl01f0spbe",
        "colab_type": "code",
        "colab": {}
      },
      "source": [
        "y_wavgan, sr = librosa.load('./gen/output/wav_RUSLAN.wav',sr=16000)\n",
        "ipd.Audio(y_wavgan, rate=sr) "
      ],
      "execution_count": 0,
      "outputs": []
    },
    {
      "cell_type": "markdown",
      "metadata": {
        "id": "Oiq8HvW_qXG6",
        "colab_type": "text"
      },
      "source": [
        "# TTS"
      ]
    },
    {
      "cell_type": "code",
      "metadata": {
        "id": "Hc2GKJbDqWEh",
        "colab_type": "code",
        "colab": {}
      },
      "source": [
        "%tensorflow_version 2.x\n",
        "!pip uninstall -y tensorflow\n",
        "!pip install tensorflow-gpu==1.14.0\n",
        "!sudo apt-get install portaudio19-dev\n",
        "!pip install PyAudio\n",
        "!pip install sounddevice\n",
        "!pip install unidecode\n",
        "\n",
        "!gdown https://drive.google.com/uc?id=19Gl9ejMUm_ll6cKozt5N99qDBN25FXDA\n",
        "!unzip test.zip"
      ],
      "execution_count": 0,
      "outputs": []
    },
    {
      "cell_type": "code",
      "metadata": {
        "id": "FdpS8sRgqdeo",
        "colab_type": "code",
        "colab": {}
      },
      "source": [
        "cd test/"
      ],
      "execution_count": 0,
      "outputs": []
    },
    {
      "cell_type": "code",
      "metadata": {
        "id": "koCVWPcmqfOJ",
        "colab_type": "code",
        "colab": {}
      },
      "source": [
        "!python synthesize.py --text_list 'Привет сотрудники вконтакте. Как у вас дела.' --checkpoint male\n",
        "#!python synthesize.py --text_list 'Привет сотрудники вконтакте. Как у вас дела.' --checkpoint female\n",
        "#!python synthesize.py --text_list 'Привет сотрудники вконтакте. Как у вас дела.' --checkpoint zueva"
      ],
      "execution_count": 0,
      "outputs": []
    },
    {
      "cell_type": "code",
      "metadata": {
        "id": "jRUvAXn-qi2n",
        "colab_type": "code",
        "colab": {}
      },
      "source": [
        "y_tac, sr = librosa.load('./tacotron_output/wav-batch_0_sentence_0-mel.wav',sr=16000)\n",
        "ipd.Audio(y_tac, rate=sr) "
      ],
      "execution_count": 0,
      "outputs": []
    },
    {
      "cell_type": "code",
      "metadata": {
        "id": "tESG5J6fqkdl",
        "colab_type": "code",
        "colab": {}
      },
      "source": [
        "!python wavgan.py -r g -f wav"
      ],
      "execution_count": 0,
      "outputs": []
    },
    {
      "cell_type": "code",
      "metadata": {
        "id": "Cvx5dfWJqlwb",
        "colab_type": "code",
        "colab": {}
      },
      "source": [
        "y_tac, sr = librosa.load('./tacotron_output/output/wav_wav-batch_0_sentence_0-mel.wav',sr=16000)\n",
        "ipd.Audio(y_tac, rate=sr) "
      ],
      "execution_count": 0,
      "outputs": []
    }
  ]
}